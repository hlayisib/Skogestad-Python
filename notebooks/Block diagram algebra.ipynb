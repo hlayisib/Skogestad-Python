{
 "cells": [
  {
   "cell_type": "markdown",
   "metadata": {},
   "source": [
    "Block diagram algebra\n",
    "======================\n",
    "\n",
    "<img src=\"Figure_3_2.png\">"
   ]
  },
  {
   "cell_type": "markdown",
   "metadata": {},
   "source": [
    "The textbook shows the solution as\n",
    "\n",
    "$$z = (       P_{11}      +   P_{12} K ( I  - P_{22} K  )^{-1} P_{21}          )w$$\n"
   ]
  },
  {
   "cell_type": "markdown",
   "metadata": {},
   "source": [
    "We can do this calculation manually as follows:\n",
    "\n",
    "$c = K (a + P_{22} c)$\n",
    "\n",
    "$c = K a + K P_{22} c$\n",
    "\n",
    "$c - K P_{22} c = K a$\n",
    "\n",
    "$(I - K P_{22}) c = K a$\n",
    "\n",
    "$(I - K P_{22})^{-1} (I - K P_{22}) c = (I - K P_{22})^{-1} K a$\n",
    "\n",
    "$c = (I - K P_{22})^{-1} K a$\n",
    "\n",
    "$c = K (I - P_{22} K )^{-1} a$  (push-through)"
   ]
  },
  {
   "cell_type": "markdown",
   "metadata": {},
   "source": [
    "We should also be able to solve this problem symbolically using Sympy"
   ]
  },
  {
   "cell_type": "code",
   "execution_count": 1,
   "metadata": {
    "collapsed": true
   },
   "outputs": [],
   "source": [
    "import sympy\n",
    "sympy.init_printing()"
   ]
  },
  {
   "cell_type": "code",
   "execution_count": 2,
   "metadata": {
    "collapsed": false
   },
   "outputs": [],
   "source": [
    "(w, a, b, c, \n",
    " d, e, f, z, \n",
    " P_21, P_22, \n",
    " K, P_12, P_11) = sympy.symbols(\"\"\"w, a, b, c, \n",
    "                                   d, e, f, z,\n",
    "                                   P_21, P_22, \n",
    "                                   K, P_12, P_11\"\"\", commutative=False\n",
    "                               )\n",
    "eqs = [a - P_21*w,\n",
    "       b - (a + d),\n",
    "       c - K*b,\n",
    "       d - P_22*c,\n",
    "       e - P_12*c,\n",
    "       f - P_11*w,\n",
    "       z - (e + f)]"
   ]
  },
  {
   "cell_type": "markdown",
   "metadata": {},
   "source": [
    "Note this is the right call, unfortunately as of 2016-03-03, this causes an error."
   ]
  },
  {
   "cell_type": "code",
   "execution_count": 4,
   "metadata": {
    "collapsed": false
   },
   "outputs": [],
   "source": [
    "# Uncomment to check if this solves now\n",
    "#sympy.solve(eqs, (a, b, c, d, e, f, z))"
   ]
  },
  {
   "cell_type": "markdown",
   "metadata": {},
   "source": [
    "If we are careful about the ordering, we can still get a sensible answer from SymPy without having to do tedious math ourselves."
   ]
  },
  {
   "cell_type": "code",
   "execution_count": 5,
   "metadata": {
    "collapsed": false
   },
   "outputs": [
    {
     "data": {
      "image/png": "[encoded data removed]",
      "text/latex": [
       "$$w \\left(P_{11} + P_{12} K P_{21} + P_{12} K P_{22} K P_{21} \\left(1 - P_{22} K\\right)^{-1}\\right)$$"
      ],
      "text/plain": [
       "  ⎛                                             -1⎞\n",
       "w⋅⎝P₁₁ + P₁₂⋅K⋅P₂₁ + P₁₂⋅K⋅P₂₂⋅K⋅P₂₁⋅(1 - P₂₂⋅K)  ⎠"
      ]
     },
     "execution_count": 5,
     "metadata": {},
     "output_type": "execute_result"
    }
   ],
   "source": [
    "# first we identify which variable can be eliminated by solving each equation\n",
    "order = [a, b, c, d, e, f, z]\n",
    "# This will store the solutions\n",
    "solution = {}\n",
    "for var, eq in zip(order, eqs):\n",
    "    # We solve each equation for the new unknown given all the other solutions\n",
    "    sol = sympy.solve(eq.subs(solution), var)[0]\n",
    "    # and add that solution to the list of knowns\n",
    "    solution[var] = sol\n",
    "solution[z].collect(w)"
   ]
  }
 ],
 "metadata": {
  "kernelspec": {
   "display_name": "Python 3",
   "language": "python",
   "name": "python3"
  },
  "language_info": {
   "codemirror_mode": {
    "name": "ipython",
    "version": 3
   },
   "file_extension": ".py",
   "mimetype": "text/x-python",
   "name": "python",
   "nbconvert_exporter": "python",
   "pygments_lexer": "ipython3",
   "version": "3.5.1"
  }
 },
 "nbformat": 4,
 "nbformat_minor": 0
}
