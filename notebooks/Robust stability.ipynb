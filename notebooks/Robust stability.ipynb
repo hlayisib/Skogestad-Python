{
 "cells": [
  {
   "cell_type": "markdown",
   "metadata": {},
   "source": [
    "Robust stability\n",
    "================"
   ]
  },
  {
   "cell_type": "code",
   "execution_count": 1,
   "metadata": {
    "collapsed": true
   },
   "outputs": [],
   "source": [
    "import numpy\n",
    "import matplotlib.pyplot as plt\n",
    "%matplotlib inline"
   ]
  },
  {
   "cell_type": "markdown",
   "metadata": {},
   "source": [
    "We will build a simple non-diagonal system with a diagonal proportional controller"
   ]
  },
  {
   "cell_type": "code",
   "execution_count": 27,
   "metadata": {
    "collapsed": false
   },
   "outputs": [],
   "source": [
    "W_I = 0.1\n",
    "K_c = 1\n",
    "\n",
    "def G(s):\n",
    "    return numpy.matrix([[1/(s + 1), 1/(s+2)],\n",
    "                         [0, 2/(2*s + 1)]])\n",
    "def K(s):\n",
    "    return K_c*numpy.asmatrix(numpy.eye(2))\n",
    "\n",
    "def M(s):\n",
    "    \"\"\" N_11 from eq 8.32 \"\"\"\n",
    "    return -W_I*K(s)*G(s)*(numpy.eye(2) + K(s)*G(s)).I"
   ]
  },
  {
   "cell_type": "code",
   "execution_count": 28,
   "metadata": {
    "collapsed": false
   },
   "outputs": [
    {
     "data": {
      "text/plain": [
       "matrix([[-0.025     , -0.01339286],\n",
       "        [ 0.        , -0.02857143]])"
      ]
     },
     "execution_count": 28,
     "metadata": {},
     "output_type": "execute_result"
    }
   ],
   "source": [
    "M(2.0)"
   ]
  },
  {
   "cell_type": "markdown",
   "metadata": {},
   "source": [
    "Let's observe the MV Nyquist diagram of this process"
   ]
  },
  {
   "cell_type": "code",
   "execution_count": 29,
   "metadata": {
    "collapsed": true
   },
   "outputs": [],
   "source": [
    "omega = numpy.logspace(-2, 2, 100)\n",
    "s = 1j*omega"
   ]
  },
  {
   "cell_type": "code",
   "execution_count": 30,
   "metadata": {
    "collapsed": false
   },
   "outputs": [],
   "source": [
    "def mvdet(s):\n",
    "    return numpy.linalg.det(numpy.eye(2) + G(s)*K(s))\n",
    "\n",
    "fr = numpy.array([mvdet(si) for si in s])"
   ]
  },
  {
   "cell_type": "code",
   "execution_count": 33,
   "metadata": {
    "collapsed": false
   },
   "outputs": [
    {
     "data": {
      "text/plain": [
       "<matplotlib.lines.Line2D at 0x113735d30>"
      ]
     },
     "execution_count": 33,
     "metadata": {},
     "output_type": "execute_result"
    },
    {
     "data": {
      "image/png": "[encoded data removed]",
      "text/plain": [
       "<matplotlib.figure.Figure at 0x10f649dd8>"
      ]
     },
     "metadata": {},
     "output_type": "display_data"
    }
   ],
   "source": [
    "plt.plot(fr.real, fr.imag)\n",
    "plt.plot(fr.real, -fr.imag)\n",
    "plt.axhline(0)\n",
    "plt.axvline(0)"
   ]
  },
  {
   "cell_type": "markdown",
   "metadata": {},
   "source": [
    "This system looks stable since there are no encirclements of 0."
   ]
  },
  {
   "cell_type": "markdown",
   "metadata": {},
   "source": [
    "Now, let's add some uncertainty. We will be building an unstructured $\\Delta$ as well as a diagonal $\\Delta$."
   ]
  },
  {
   "cell_type": "code",
   "execution_count": 39,
   "metadata": {
    "collapsed": true
   },
   "outputs": [],
   "source": [
    "def maxsigma(m):\n",
    "    _, S, _ = numpy.linalg.svd(m)\n",
    "    return S.max()"
   ]
  },
  {
   "cell_type": "code",
   "execution_count": 40,
   "metadata": {
    "collapsed": true
   },
   "outputs": [],
   "source": [
    "def unstructuredDelta():\n",
    "    numbers = numpy.random.rand(4)*2 - 1 + 1j*(numpy.random.rand(4)*2 -1)\n",
    "    Delta = numpy.asmatrix(numpy.reshape(numbers, (2, 2)))\n",
    "    return Delta"
   ]
  },
  {
   "cell_type": "code",
   "execution_count": 41,
   "metadata": {
    "collapsed": true
   },
   "outputs": [],
   "source": [
    "def diagonalDelta():\n",
    "    numbers = numpy.random.rand(2)*2 - 1 + 1j*(numpy.random.rand(2)*2 -1)\n",
    "    Delta = numpy.asmatrix(numpy.diag(numbers))\n",
    "    return Delta"
   ]
  },
  {
   "cell_type": "code",
   "execution_count": 42,
   "metadata": {
    "collapsed": true
   },
   "outputs": [],
   "source": [
    "def allowableDelta(kind):\n",
    "    while True:\n",
    "        Delta = kind()\n",
    "        if maxsigma(Delta) < 1:\n",
    "            return Delta"
   ]
  },
  {
   "cell_type": "markdown",
   "metadata": {},
   "source": [
    "So now we can generate an acceptable Delta."
   ]
  },
  {
   "cell_type": "code",
   "execution_count": 44,
   "metadata": {
    "collapsed": false
   },
   "outputs": [
    {
     "data": {
      "text/plain": [
       "matrix([[-0.81937463+0.55857445j,  0.00000000+0.j        ],\n",
       "        [ 0.00000000+0.j        , -0.49329891-0.07605959j]])"
      ]
     },
     "execution_count": 44,
     "metadata": {},
     "output_type": "execute_result"
    }
   ],
   "source": [
    "allowableDelta(diagonalDelta)"
   ]
  },
  {
   "cell_type": "code",
   "execution_count": 45,
   "metadata": {
    "collapsed": true
   },
   "outputs": [],
   "source": [
    "I = numpy.eye(2)"
   ]
  },
  {
   "cell_type": "code",
   "execution_count": 46,
   "metadata": {
    "collapsed": true
   },
   "outputs": [],
   "source": [
    "def Mdelta(Delta, s):\n",
    "    return M(s)*Delta"
   ]
  },
  {
   "cell_type": "code",
   "execution_count": 47,
   "metadata": {
    "collapsed": true
   },
   "outputs": [],
   "source": [
    "kind = diagonalDelta"
   ]
  },
  {
   "cell_type": "markdown",
   "metadata": {},
   "source": [
    "Let's see what the Nyquist diagrams look like for lots of different allowable Deltas."
   ]
  },
  {
   "cell_type": "code",
   "execution_count": 48,
   "metadata": {
    "collapsed": false
   },
   "outputs": [
    {
     "data": {
      "image/png": "[encoded data removed]",
      "text/plain": [
       "<matplotlib.figure.Figure at 0x10f64f518>"
      ]
     },
     "metadata": {},
     "output_type": "display_data"
    }
   ],
   "source": [
    "Ndelta = 100\n",
    "\n",
    "for i in range(Ndelta):\n",
    "    Delta = allowableDelta(kind)\n",
    "    fr = numpy.array([numpy.linalg.det(I - Mdelta(Delta, si)) for si in s])\n",
    "    plt.plot(fr.real, fr.imag, color='blue', alpha=0.2)\n",
    "plt.axhline(0, color='black')\n",
    "plt.axvline(0, color='black')\n",
    "plt.show()"
   ]
  },
  {
   "cell_type": "markdown",
   "metadata": {},
   "source": [
    "That looks like no $\\Delta$ moved us near the zero point, which is where we will become unstable. So this system looks it's robustly stable."
   ]
  },
  {
   "cell_type": "markdown",
   "metadata": {},
   "source": [
    "To apply the small gain theorem, we need to check the eigenvalues of $M\\Delta$"
   ]
  },
  {
   "cell_type": "code",
   "execution_count": 19,
   "metadata": {
    "collapsed": false
   },
   "outputs": [
    {
     "data": {
      "image/png": "[encoded data removed]",
      "text/plain": [
       "<matplotlib.figure.Figure at 0x10e99f8d0>"
      ]
     },
     "metadata": {},
     "output_type": "display_data"
    }
   ],
   "source": [
    "Ndelta = 100\n",
    "\n",
    "for i in range(Ndelta):\n",
    "    Delta = allowableDelta(kind)\n",
    "    fr = numpy.array([numpy.linalg.eigvals(Mdelta(Delta, si)) for si in s])\n",
    "    plt.plot(fr.real, fr.imag, color='blue', alpha=0.2)\n",
    "plt.axhline(0, color='black')\n",
    "plt.axvline(1, color='black')\n",
    "plt.show()"
   ]
  },
  {
   "cell_type": "code",
   "execution_count": 50,
   "metadata": {
    "collapsed": false
   },
   "outputs": [
    {
     "data": {
      "image/png": "[encoded data removed]",
      "text/plain": [
       "<matplotlib.figure.Figure at 0x113a43470>"
      ]
     },
     "metadata": {},
     "output_type": "display_data"
    }
   ],
   "source": [
    "Ndelta = 1000\n",
    "\n",
    "def specradius(m):\n",
    "    return numpy.abs(numpy.linalg.eigvals(m)).max()\n",
    "\n",
    "for i in range(Ndelta):\n",
    "    Delta = allowableDelta(kind)\n",
    "    specradiuss = numpy.array([specradius(Mdelta(Delta, si)) for si in s])\n",
    "    plt.loglog(omega, specradiuss, color='blue', alpha=0.2)\n",
    "maxsigmas = numpy.array([maxsigma(M(si)) for si in s])\n",
    "specradius_of_m = [specradius(M(si)) for si in s]\n",
    "plt.loglog(omega, maxsigmas, color='red')\n",
    "plt.loglog(omega, specradius_of_m, color='green')\n",
    "plt.axhline(1, color='black')\n",
    "#plt.ylim([1e-2, 1e-1])\n",
    "plt.show()"
   ]
  },
  {
   "cell_type": "code",
   "execution_count": null,
   "metadata": {
    "collapsed": true
   },
   "outputs": [],
   "source": []
  }
 ],
 "metadata": {
  "kernelspec": {
   "display_name": "Python 3",
   "language": "python",
   "name": "python3"
  },
  "language_info": {
   "codemirror_mode": {
    "name": "ipython",
    "version": 3
   },
   "file_extension": ".py",
   "mimetype": "text/x-python",
   "name": "python",
   "nbconvert_exporter": "python",
   "pygments_lexer": "ipython3",
   "version": "3.5.1"
  }
 },
 "nbformat": 4,
 "nbformat_minor": 0
}
