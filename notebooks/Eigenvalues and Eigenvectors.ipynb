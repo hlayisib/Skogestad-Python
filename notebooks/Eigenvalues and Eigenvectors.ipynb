{
 "cells": [
  {
   "cell_type": "code",
   "execution_count": 1,
   "metadata": {
    "collapsed": true
   },
   "outputs": [],
   "source": [
    "import numpy\n",
    "import matplotlib.pyplot as plt"
   ]
  },
  {
   "cell_type": "code",
   "execution_count": 2,
   "metadata": {
    "collapsed": true
   },
   "outputs": [],
   "source": [
    "%matplotlib inline"
   ]
  },
  {
   "cell_type": "markdown",
   "metadata": {},
   "source": [
    "Eigenvalue problem\n",
    "=================="
   ]
  },
  {
   "cell_type": "markdown",
   "metadata": {},
   "source": [
    "Matrix transformaion is written as\n",
    "\n",
    "$$ \\mathbf{y} = A\\mathbf{x} $$\n",
    "\n",
    "A different vector in the same direction can be written as scalar multiplication:\n",
    "\n",
    "$$\\mathbf{y} = \\lambda\\mathbf{x}$$ \n",
    "\n",
    "Equating these $y$s yields:\n",
    "\n",
    "$$ A\\mathbf{x} = \\lambda \\mathbf{x} \\Rightarrow (A - \\lambda I) \\mathbf{x} = 0$$\n",
    "\n",
    "$$\\det(A - \\lambda I) = 0 $$\n",
    "\n",
    "The eigenvalue problem can also be collected with $\\Lambda$ being a diagonal matrix containing all the eigenvalues and $X$ containing the eigenvectors stacked column-wise. This leads to the eigenvalue decomposition:\n",
    "\n",
    "$$  A X = X \\Lambda \\Rightarrow A = X \\Lambda X^{-1}$$\n",
    "\n",
    "If we try to find a similar decomposition with different constraints, we can write\n",
    "\n",
    "$$ A = U D V^{H} $$\n",
    "\n",
    "If $D$ is a diagonal matrix and $U$ and $V$ are [unitary](http://en.wikipedia.org/wiki/Unitary_matrix), this is the singular value decomposition."
   ]
  },
  {
   "cell_type": "code",
   "execution_count": 6,
   "metadata": {
    "collapsed": false
   },
   "outputs": [],
   "source": [
    "from ipywidgets import interact"
   ]
  },
  {
   "cell_type": "code",
   "execution_count": 7,
   "metadata": {
    "collapsed": false
   },
   "outputs": [],
   "source": [
    "def plotvector(x, color='blue'):\n",
    "    plt.plot([0, x[0,0]], [0, x[1,0]], color=color)"
   ]
  },
  {
   "cell_type": "code",
   "execution_count": 8,
   "metadata": {
    "collapsed": true
   },
   "outputs": [],
   "source": [
    "import matplotlib.patches as patches"
   ]
  },
  {
   "cell_type": "markdown",
   "metadata": {},
   "source": [
    "Let's investigate the properties of this matrix:"
   ]
  },
  {
   "cell_type": "code",
   "execution_count": 9,
   "metadata": {
    "collapsed": false
   },
   "outputs": [],
   "source": [
    "A = numpy.matrix([[1, 4],\n",
    "                  [3, 2]])"
   ]
  },
  {
   "cell_type": "markdown",
   "metadata": {},
   "source": [
    "The eigenvectors and eigenvalues can be calculated as follows. We also calculate the output vectors associated with a unit vector input in the eigenvector directions."
   ]
  },
  {
   "cell_type": "code",
   "execution_count": 10,
   "metadata": {
    "collapsed": false
   },
   "outputs": [],
   "source": [
    "lambdas, eigvectors = numpy.linalg.eig(A)\n",
    "ev1 = lambdas[0]*eigvectors[:, 0]\n",
    "ev2 = lambdas[1]*eigvectors[:, 1]"
   ]
  },
  {
   "cell_type": "markdown",
   "metadata": {},
   "source": [
    "The singular values determine the main axes of the translation ellipse of the matrix. Note that the `numpy.linalg.svd` function returns the conjugate transpose of the input direction matrix."
   ]
  },
  {
   "cell_type": "code",
   "execution_count": 11,
   "metadata": {
    "collapsed": true
   },
   "outputs": [],
   "source": [
    "U, S, VH = numpy.linalg.svd(A)\n",
    "V = VH.H\n",
    "ellipseangle = numpy.rad2deg(numpy.angle(complex(*U[:, 0])))"
   ]
  },
  {
   "cell_type": "code",
   "execution_count": 12,
   "metadata": {
    "collapsed": false
   },
   "outputs": [
    {
     "data": {
      "text/plain": [
       "<function __main__.interactive>"
      ]
     },
     "execution_count": 12,
     "metadata": {},
     "output_type": "execute_result"
    },
    {
     "data": {
      "image/png": "[encoded data removed]",
      "text/plain": [
       "<matplotlib.figure.Figure at 0x10c67ebe0>"
      ]
     },
     "metadata": {},
     "output_type": "display_data"
    }
   ],
   "source": [
    "def interactive(scale, theta):\n",
    "    x = numpy.matrix([[numpy.cos(theta)], [numpy.sin(theta)]])\n",
    "    y = A*x\n",
    "\n",
    "    plotvector(x)\n",
    "    plotvector(y, color='red')\n",
    "    plotvector(ev1, 'green')\n",
    "    plotvector(ev2, 'green')\n",
    "    plotvector(V[:, 0], 'magenta')\n",
    "    plotvector(V[:, 1], 'magenta')\n",
    "    plt.gca().add_artist(patches.Circle([0, 0], 1, \n",
    "                                        color='blue', \n",
    "                                        alpha=0.1))\n",
    "    plt.gca().add_artist(patches.Ellipse([0, 0], S[0]*2, S[1]*2, \n",
    "                                         ellipseangle,\n",
    "                                         color='red',\n",
    "                                         alpha=0.1))\n",
    "    plt.axis([-scale, scale, -scale, scale])\n",
    "    plt.axes().set_aspect('equal')\n",
    "interact(interactive, scale=[1., 10], theta=[0, numpy.pi*2])"
   ]
  },
  {
   "cell_type": "code",
   "execution_count": null,
   "metadata": {
    "collapsed": true
   },
   "outputs": [],
   "source": []
  }
 ],
 "metadata": {
  "kernelspec": {
   "display_name": "Python 3",
   "language": "python",
   "name": "python3"
  },
  "language_info": {
   "codemirror_mode": {
    "name": "ipython",
    "version": 3
   },
   "file_extension": ".py",
   "mimetype": "text/x-python",
   "name": "python",
   "nbconvert_exporter": "python",
   "pygments_lexer": "ipython3",
   "version": "3.5.1"
  }
 },
 "nbformat": 4,
 "nbformat_minor": 0
}
