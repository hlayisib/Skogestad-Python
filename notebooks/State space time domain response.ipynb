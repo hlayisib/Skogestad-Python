{
 "cells": [
  {
   "cell_type": "markdown",
   "metadata": {},
   "source": [
    "State space example\n",
    "===================\n",
    "\n",
    "We take a simple system and integrate it numerically"
   ]
  },
  {
   "cell_type": "code",
   "execution_count": 2,
   "metadata": {
    "collapsed": false
   },
   "outputs": [],
   "source": [
    "A = matrix([[0, 1],\n",
    "            [-5, -4]])\n",
    "B = matrix([[0], \n",
    "            [1]])\n",
    "C = matrix([[1, 0]])\n",
    "D = matrix([[0]])\n",
    "\n",
    "ts = linspace(0, 5, 1000)\n",
    "dt = ts[1]\n",
    "\n",
    "def u(t):\n",
    "    if t < 0:\n",
    "        return matrix([[0]])\n",
    "    else:\n",
    "        return matrix([[1]])\n",
    "    \n",
    "x0 = matrix([[0], \n",
    "             [0]])\n",
    "\n",
    "ys = zeros_like(ts)\n"
   ]
  },
  {
   "cell_type": "code",
   "execution_count": 3,
   "metadata": {
    "collapsed": false
   },
   "outputs": [
    {
     "name": "stdout",
     "output_type": "stream",
     "text": [
      "1 loops, best of 3: 108 ms per loop\n"
     ]
    }
   ],
   "source": [
    "%%timeit\n",
    "x = matrix(x0)\n",
    "for i, t in enumerate(ts):\n",
    "    # Evaluate state-space form\n",
    "    dxdt = A*x + B*u(t)\n",
    "    y = C*x + D*u(t)\n",
    "    \n",
    "    # Do integration\n",
    "    x = x + dxdt*dt\n",
    "    \n",
    "    # store result\n",
    "    ys[i] = y[0,0]"
   ]
  },
  {
   "cell_type": "markdown",
   "metadata": {},
   "source": [
    "Then analytically using the matrix exponential"
   ]
  },
  {
   "cell_type": "code",
   "execution_count": 4,
   "metadata": {
    "collapsed": false
   },
   "outputs": [],
   "source": [
    "from scipy.linalg import expm\n",
    "y_analytic = zeros_like(ts)\n",
    "b0 = solve(A, -B)"
   ]
  },
  {
   "cell_type": "code",
   "execution_count": 5,
   "metadata": {
    "collapsed": false
   },
   "outputs": [
    {
     "name": "stdout",
     "output_type": "stream",
     "text": [
      "1 loops, best of 3: 217 ms per loop\n"
     ]
    }
   ],
   "source": [
    "%%timeit\n",
    "for i, t in enumerate(ts):\n",
    "    y = expm(A*t)*b0\n",
    "    y_analytic[i] = b0[0] - y[0,0]"
   ]
  },
  {
   "cell_type": "markdown",
   "metadata": {},
   "source": [
    "The \"analytic\" method is slower, but no more accurate"
   ]
  },
  {
   "cell_type": "code",
   "execution_count": 6,
   "metadata": {
    "collapsed": false
   },
   "outputs": [
    {
     "data": {
      "text/plain": [
       "[<matplotlib.lines.Line2D at 0x108f1a450>,\n",
       " <matplotlib.lines.Line2D at 0x108f095d0>]"
      ]
     },
     "execution_count": 6,
     "metadata": {},
     "output_type": "execute_result"
    },
    {
     "data": {
      "image/png": "[encoded data removed]"
     },
     "metadata": {},
     "output_type": "display_data"
    }
   ],
   "source": [
    "plot(ts, ys, ts, y_analytic)"
   ]
  }
 ],
 "metadata": {
  "kernelspec": {
   "display_name": "Python 3",
   "language": "python",
   "name": "python3"
  },
  "language_info": {
   "codemirror_mode": {
    "name": "ipython",
    "version": 3
   },
   "file_extension": ".py",
   "mimetype": "text/x-python",
   "name": "python",
   "nbconvert_exporter": "python",
   "pygments_lexer": "ipython3",
   "version": "3.5.1"
  }
 },
 "nbformat": 4,
 "nbformat_minor": 0
}
