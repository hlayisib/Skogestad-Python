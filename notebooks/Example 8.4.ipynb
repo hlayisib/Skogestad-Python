{
 "cells": [
  {
   "cell_type": "code",
   "execution_count": 50,
   "metadata": {
    "collapsed": true
   },
   "outputs": [],
   "source": [
    "from sympy import *\n",
    "init_printing()"
   ]
  },
  {
   "cell_type": "code",
   "execution_count": 24,
   "metadata": {
    "collapsed": false
   },
   "outputs": [],
   "source": [
    "W_P, W_I, G, I, K = var('W_P, W_I, G, I, K', commutative=False)"
   ]
  },
  {
   "cell_type": "code",
   "execution_count": 93,
   "metadata": {
    "collapsed": true
   },
   "outputs": [],
   "source": [
    "I = 1"
   ]
  },
  {
   "cell_type": "code",
   "execution_count": 94,
   "metadata": {
    "collapsed": false
   },
   "outputs": [],
   "source": [
    "P = Matrix([[0, 0, W_I],\n",
    "            [W_P*G, W_P, W_P*G],\n",
    "            [-G, -I, -G]])"
   ]
  },
  {
   "cell_type": "code",
   "execution_count": 95,
   "metadata": {
    "collapsed": false
   },
   "outputs": [
    {
     "data": {
      "image/png": "[encoded data removed]",
      "text/latex": [
       "$$\\left[\\begin{matrix}0 & 0 & W_{I}\\\\W_{P} G & W_{P} & W_{P} G\\\\- G & -1 & - G\\end{matrix}\\right]$$"
      ],
      "text/plain": [
       "⎡  0     0    W_I ⎤\n",
       "⎢                 ⎥\n",
       "⎢W_P⋅G  W_P  W_P⋅G⎥\n",
       "⎢                 ⎥\n",
       "⎣ -G    -1    -G  ⎦"
      ]
     },
     "execution_count": 95,
     "metadata": {},
     "output_type": "execute_result"
    }
   ],
   "source": [
    "P"
   ]
  },
  {
   "cell_type": "code",
   "execution_count": 96,
   "metadata": {
    "collapsed": false
   },
   "outputs": [
    {
     "data": {
      "image/png": "[encoded data removed]",
      "text/latex": [
       "$$\\left[\\begin{matrix}0 & 0\\\\W_{P} G & W_{P}\\end{matrix}\\right]$$"
      ],
      "text/plain": [
       "⎡  0     0 ⎤\n",
       "⎢          ⎥\n",
       "⎣W_P⋅G  W_P⎦"
      ]
     },
     "execution_count": 96,
     "metadata": {},
     "output_type": "execute_result"
    }
   ],
   "source": [
    "P11 = P[:2, :2]\n",
    "P11"
   ]
  },
  {
   "cell_type": "code",
   "execution_count": 97,
   "metadata": {
    "collapsed": false
   },
   "outputs": [
    {
     "data": {
      "image/png": "[encoded data removed]",
      "text/latex": [
       "$$\\left[\\begin{matrix}W_{I}\\\\W_{P} G\\end{matrix}\\right]$$"
      ],
      "text/plain": [
       "⎡ W_I ⎤\n",
       "⎢     ⎥\n",
       "⎣W_P⋅G⎦"
      ]
     },
     "execution_count": 97,
     "metadata": {},
     "output_type": "execute_result"
    }
   ],
   "source": [
    "P12 = P[:2,2:]\n",
    "P12"
   ]
  },
  {
   "cell_type": "code",
   "execution_count": 98,
   "metadata": {
    "collapsed": false
   },
   "outputs": [
    {
     "data": {
      "image/png": "[encoded data removed]",
      "text/latex": [
       "$$\\left[\\begin{matrix}- G & -1\\end{matrix}\\right]$$"
      ],
      "text/plain": [
       "[-G  -1]"
      ]
     },
     "execution_count": 98,
     "metadata": {},
     "output_type": "execute_result"
    }
   ],
   "source": [
    "P21 = P[2:, :2]\n",
    "P21"
   ]
  },
  {
   "cell_type": "code",
   "execution_count": 99,
   "metadata": {
    "collapsed": false
   },
   "outputs": [
    {
     "data": {
      "image/png": "[encoded data removed]",
      "text/latex": [
       "$$\\left[\\begin{matrix}- G\\end{matrix}\\right]$$"
      ],
      "text/plain": [
       "[-G]"
      ]
     },
     "execution_count": 99,
     "metadata": {},
     "output_type": "execute_result"
    }
   ],
   "source": [
    "P22 = P[2:,2:]\n",
    "P22"
   ]
  },
  {
   "cell_type": "code",
   "execution_count": 100,
   "metadata": {
    "collapsed": true
   },
   "outputs": [],
   "source": [
    "I = eye(1)"
   ]
  },
  {
   "cell_type": "code",
   "execution_count": 101,
   "metadata": {
    "collapsed": false
   },
   "outputs": [
    {
     "data": {
      "image/png": "[encoded data removed]",
      "text/latex": [
       "$$\\left[\\begin{matrix}\\left(1 - G K\\right)^{-1}\\end{matrix}\\right]$$"
      ],
      "text/plain": [
       "⎡         -1⎤\n",
       "⎣(1 - G⋅K)  ⎦"
      ]
     },
     "execution_count": 101,
     "metadata": {},
     "output_type": "execute_result"
    }
   ],
   "source": [
    "(I + P22*K).inv()"
   ]
  },
  {
   "cell_type": "code",
   "execution_count": 102,
   "metadata": {
    "collapsed": false
   },
   "outputs": [],
   "source": [
    "N = P11 + P12*K*(I - P22*K).inv()*P21"
   ]
  },
  {
   "cell_type": "code",
   "execution_count": 103,
   "metadata": {
    "collapsed": false
   },
   "outputs": [
    {
     "data": {
      "image/png": "[encoded data removed]",
      "text/latex": [
       "$$\\left[\\begin{matrix}- W_{I} K \\left(1 + G K\\right)^{-1} G & - W_{I} K \\left(1 + G K\\right)^{-1}\\\\W_{P} G - W_{P} G K \\left(1 + G K\\right)^{-1} G & W_{P} - W_{P} G K \\left(1 + G K\\right)^{-1}\\end{matrix}\\right]$$"
      ],
      "text/plain": [
       "⎡                    -1                            -1    ⎤\n",
       "⎢    -W_I⋅K⋅(1 + G⋅K)  ⋅G          -W_I⋅K⋅(1 + G⋅K)      ⎥\n",
       "⎢                                                        ⎥\n",
       "⎢                         -1                           -1⎥\n",
       "⎣W_P⋅G - W_P⋅G⋅K⋅(1 + G⋅K)  ⋅G  W_P - W_P⋅G⋅K⋅(1 + G⋅K)  ⎦"
      ]
     },
     "execution_count": 103,
     "metadata": {},
     "output_type": "execute_result"
    }
   ],
   "source": [
    "N"
   ]
  }
 ],
 "metadata": {
  "kernelspec": {
   "display_name": "Python 3",
   "language": "python",
   "name": "python3"
  },
  "language_info": {
   "codemirror_mode": {
    "name": "ipython",
    "version": 3
   },
   "file_extension": ".py",
   "mimetype": "text/x-python",
   "name": "python",
   "nbconvert_exporter": "python",
   "pygments_lexer": "ipython3",
   "version": "3.5.1"
  }
 },
 "nbformat": 4,
 "nbformat_minor": 0
}
